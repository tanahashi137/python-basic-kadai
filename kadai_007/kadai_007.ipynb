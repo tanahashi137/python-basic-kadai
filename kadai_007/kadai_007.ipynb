{
  "nbformat": 4,
  "nbformat_minor": 0,
  "metadata": {
    "colab": {
      "provenance": [],
      "gpuType": "T4"
    },
    "kernelspec": {
      "name": "python3",
      "display_name": "Python 3"
    },
    "language_info": {
      "name": "python"
    },
    "accelerator": "GPU"
  },
  "cells": [
    {
      "cell_type": "code",
      "source": [
        "print(1+2)"
      ],
      "metadata": {
        "colab": {
          "base_uri": "https://localhost:8080/"
        },
        "id": "pFbPJZEeL3Cg",
        "outputId": "26bdd09e-aeeb-474a-a692-d4e6c4909ced"
      },
      "execution_count": null,
      "outputs": [
        {
          "output_type": "stream",
          "name": "stdout",
          "text": [
            "3\n"
          ]
        }
      ]
    },
    {
      "cell_type": "code",
      "source": [
        "print(\"今日の天気は\"+\"晴れ\")\n",
        "print(\"今日の天気は\" \"曇り\")"
      ],
      "metadata": {
        "colab": {
          "base_uri": "https://localhost:8080/"
        },
        "id": "iAZ6_y_vwoYC",
        "outputId": "9fce181e-8485-4e42-d397-14e953971e0b"
      },
      "execution_count": null,
      "outputs": [
        {
          "output_type": "stream",
          "name": "stdout",
          "text": [
            "今日の天気は晴れ\n",
            "今日の天気は曇り\n"
          ]
        }
      ]
    },
    {
      "cell_type": "code",
      "source": [
        "print(\"降水確率\" + str(50) + \"%\" )"
      ],
      "metadata": {
        "colab": {
          "base_uri": "https://localhost:8080/"
        },
        "id": "W3H_LqtXxywo",
        "outputId": "5ae0244e-c11d-4a7d-fdb4-1aa95ab70389"
      },
      "execution_count": null,
      "outputs": [
        {
          "output_type": "stream",
          "name": "stdout",
          "text": [
            "降水確率50%\n"
          ]
        }
      ]
    },
    {
      "cell_type": "code",
      "source": [
        "print(\"晴れ\" * 5)\n",
        "print(\"晴れ\" + \"晴れ\" + \"晴れ\" +\"晴れ\" +\"晴れ\" )"
      ],
      "metadata": {
        "colab": {
          "base_uri": "https://localhost:8080/"
        },
        "id": "TtG_aLcZxquj",
        "outputId": "a1a6b423-40a0-4713-a232-e2f3bff8b5de"
      },
      "execution_count": null,
      "outputs": [
        {
          "output_type": "stream",
          "name": "stdout",
          "text": [
            "晴れ晴れ晴れ晴れ晴れ\n",
            "晴れ晴れ晴れ晴れ晴れ\n"
          ]
        }
      ]
    },
    {
      "cell_type": "code",
      "source": [
        "print(45 + 1.8)\n",
        "print(3 - 1.2)\n",
        "print(15 * 0.6)\n",
        "print(3 / 0.3)\n",
        "print(45 % 0.8)"
      ],
      "metadata": {
        "id": "SUsVLXyHMNhx",
        "colab": {
          "base_uri": "https://localhost:8080/"
        },
        "outputId": "9f591faa-d186-442a-97ec-8fca5917ed19"
      },
      "execution_count": null,
      "outputs": [
        {
          "output_type": "stream",
          "name": "stdout",
          "text": [
            "46.8\n",
            "1.8\n",
            "9.0\n",
            "10.0\n",
            "0.1999999999999975\n"
          ]
        }
      ]
    },
    {
      "cell_type": "code",
      "source": [],
      "metadata": {
        "id": "YOt6RB0CkURX"
      },
      "execution_count": null,
      "outputs": []
    },
    {
      "cell_type": "code",
      "source": [
        "user_name=\"侍太郎\"\n",
        "print(user_name)"
      ],
      "metadata": {
        "colab": {
          "base_uri": "https://localhost:8080/"
        },
        "id": "CS_BMtDy2CDQ",
        "outputId": "973e6c39-322a-478e-8285-ed218ec7c969"
      },
      "execution_count": null,
      "outputs": [
        {
          "output_type": "stream",
          "name": "stdout",
          "text": [
            "侍太郎\n"
          ]
        }
      ]
    },
    {
      "cell_type": "code",
      "source": [
        "user_name =\"侍太郎\"\n",
        "print(user_name)\n",
        "\n",
        "user_name=\"侍花子\"\n",
        "print(user_name)"
      ],
      "metadata": {
        "colab": {
          "base_uri": "https://localhost:8080/"
        },
        "id": "SDpxBdbt68tC",
        "outputId": "727ec7f7-e7c2-4a3f-994f-6f1b954bdf43"
      },
      "execution_count": null,
      "outputs": [
        {
          "output_type": "stream",
          "name": "stdout",
          "text": [
            "侍太郎\n",
            "侍花子\n"
          ]
        }
      ]
    },
    {
      "cell_type": "code",
      "source": [
        "#整数型と浮動小数点型の足し算\n",
        "number1 = 5\n",
        "number2 = 2.5\n",
        "print(number1 + number2)\n",
        "\n",
        "#文字列型と文字列型の連結\n",
        "last_name = \"侍\"\n",
        "first_name =\"太郎\"\n",
        "print(last_name + first_name)\n"
      ],
      "metadata": {
        "colab": {
          "base_uri": "https://localhost:8080/"
        },
        "id": "Gaw0uSVb88MN",
        "outputId": "21d7e10a-a5bf-40c1-aadd-4bb28673f10e"
      },
      "execution_count": null,
      "outputs": [
        {
          "output_type": "stream",
          "name": "stdout",
          "text": [
            "7.5\n",
            "侍太郎\n"
          ]
        }
      ]
    },
    {
      "cell_type": "code",
      "source": [
        "top_side= 10\n",
        "bottom_side = 20\n",
        "height = 5\n",
        "\n",
        "print(str((top_side + bottom_side)* height / 2) + \"㎠\")"
      ],
      "metadata": {
        "id": "vvgn7yJlFahR",
        "colab": {
          "base_uri": "https://localhost:8080/"
        },
        "outputId": "50b5d4ac-f1b6-43a2-8e6d-27a837d56f15"
      },
      "execution_count": null,
      "outputs": [
        {
          "output_type": "stream",
          "name": "stdout",
          "text": [
            "75.0㎠\n"
          ]
        }
      ]
    },
    {
      "cell_type": "code",
      "source": [
        "top_side= 10\n",
        "bottom_side = 20\n",
        "height = 5\n",
        "ans = (top_side + bottom_side) * height / 2\n",
        "\n",
        "print(str(ans)+\"㎠\")"
      ],
      "metadata": {
        "colab": {
          "base_uri": "https://localhost:8080/"
        },
        "outputId": "9ccba35b-d6c9-410f-a91c-c85caf034e1c",
        "id": "dRgsvFPRZc2z"
      },
      "execution_count": null,
      "outputs": [
        {
          "output_type": "stream",
          "name": "stdout",
          "text": [
            "75.0㎠\n"
          ]
        }
      ]
    },
    {
      "cell_type": "code",
      "source": [
        "user_names = [\"侍太郎\",\"侍一郎\",\"侍二郎\",\"侍三郎\",\"侍四郎\"]\n",
        "\n",
        "print(user_names[1]) #2番目の要素だけを表示\n",
        "\n",
        "user_names[1]=\"侍花子\" #2番目の要素を更新\n",
        "print(user_names)\n",
        "\n",
        "user_names.append(\"侍五郎\") #6番目の要素を追加\n",
        "print(user_names)\n",
        "\n",
        "user_names.pop(2) #3番目の要素を削除(0始まりのため2を指定)\n",
        "print(user_names)\n"
      ],
      "metadata": {
        "id": "1wNYkdCBauec",
        "colab": {
          "base_uri": "https://localhost:8080/"
        },
        "outputId": "0b9f2b03-64d7-4d19-a514-07797de299e8"
      },
      "execution_count": null,
      "outputs": [
        {
          "output_type": "stream",
          "name": "stdout",
          "text": [
            "侍一郎\n",
            "['侍太郎', '侍花子', '侍二郎', '侍三郎', '侍四郎']\n",
            "['侍太郎', '侍花子', '侍二郎', '侍三郎', '侍四郎', '侍五郎']\n",
            "['侍太郎', '侍花子', '侍三郎', '侍四郎', '侍五郎']\n"
          ]
        }
      ]
    },
    {
      "cell_type": "markdown",
      "source": [],
      "metadata": {
        "id": "IAGoYz4fRgJ6"
      }
    },
    {
      "cell_type": "code",
      "source": [
        "country_names = (\"日本\", \"アメリカ\", \"イギリス\", \"フランス\" )\n",
        "\n",
        "# 3番目の要素を取り出す\n",
        "print(country_names[2])\n",
        "\n",
        "# すべての要素を取り出す\n",
        "print(country_names)\n"
      ],
      "metadata": {
        "colab": {
          "base_uri": "https://localhost:8080/"
        },
        "id": "4FMkNzCMs_4k",
        "outputId": "7dd94ee9-875a-43f1-b445-9f896d455477"
      },
      "execution_count": null,
      "outputs": [
        {
          "output_type": "stream",
          "name": "stdout",
          "text": [
            "イギリス\n",
            "('日本', 'アメリカ', 'イギリス', 'フランス')\n"
          ]
        }
      ]
    },
    {
      "cell_type": "code",
      "source": [
        "country_names = {\"アメリカ\",\"イギリス\",\"日本\",\"フランス\"}\n",
        "print(country_names) #セット全体を表示\n",
        "\n",
        "country_names.add(\"ドイツ\") #ドイツをセットに追加\n",
        "print(country_names)\n",
        "\n",
        "country_names.remove(\"イギリス\") #セットからイギリスを削除\n",
        "print(country_names)"
      ],
      "metadata": {
        "colab": {
          "base_uri": "https://localhost:8080/"
        },
        "id": "C23DmpcuwGXj",
        "outputId": "7d28c3be-d4f0-4922-b4b9-05682ccc2e39"
      },
      "execution_count": null,
      "outputs": [
        {
          "output_type": "stream",
          "name": "stdout",
          "text": [
            "{'フランス', '日本', 'アメリカ', 'イギリス'}\n",
            "{'フランス', 'アメリカ', 'イギリス', 'ドイツ', '日本'}\n",
            "{'フランス', 'アメリカ', 'ドイツ', '日本'}\n"
          ]
        }
      ]
    },
    {
      "cell_type": "code",
      "source": [
        "#連想配列を作成\n",
        "personal_data = {\"name\":\"侍太郎\",\"age\":36,\"gender\":\"男性\"}\n",
        "\n",
        "#キー「name」の値を表示\n",
        "print(personal_data[\"name\"])\n",
        "\n",
        "#連想配列全体を表示\n",
        "print(personal_data)\n",
        "\n",
        "#キー「age」の値を更新\n",
        "personal_data[\"age\"] = 37\n",
        "\n",
        "#新しく要素(キーと価)を追加\n",
        "personal_data[\"address\"] = \"東京都\"\n",
        "\n",
        "#連想配列全体を表示\n",
        "print(personal_data)\n"
      ],
      "metadata": {
        "id": "G-vo5UeQwWDr",
        "colab": {
          "base_uri": "https://localhost:8080/"
        },
        "outputId": "6be3dcc5-4f81-4eee-a682-f7732937f301"
      },
      "execution_count": 1,
      "outputs": [
        {
          "output_type": "stream",
          "name": "stdout",
          "text": [
            "侍太郎\n",
            "{'name': '侍太郎', 'age': 36, 'gender': '男性'}\n",
            "{'name': '侍太郎', 'age': 37, 'gender': '男性', 'address': '東京都'}\n"
          ]
        }
      ]
    },
    {
      "cell_type": "code",
      "source": [
        "array = [\"月曜日は晴れです\",\"火曜日は雨です\",\"水曜日は晴れです\",\"木曜日は晴れです\",\"金曜日は曇りです\",\"土曜日は曇りのち雨です\",\"日曜日は雷雨です\"]\n",
        "print(array)\n",
        "\n",
        "dictionary = {\"mon\":\"晴れ\",\"tue\":\"雨\",\"wed\":\"晴れ\",\"thu\":\"晴れ\",\"fri\":\"曇り\",\"sat\":\"雲りのち雨\",\"sun\":\"雷雨\"}\n",
        "print(dictionary)"
      ],
      "metadata": {
        "colab": {
          "base_uri": "https://localhost:8080/"
        },
        "id": "p8exzFOQm9St",
        "outputId": "293e001b-bf26-42cb-add2-8cd0431f542e"
      },
      "execution_count": 3,
      "outputs": [
        {
          "output_type": "stream",
          "name": "stdout",
          "text": [
            "['月曜日は晴れです', '火曜日は雨です', '水曜日は晴れです', '木曜日は晴れです', '金曜日は曇りです', '土曜日は曇りのち雨です', '日曜日は雷雨です']\n",
            "{'mon': '晴れ', 'tue': '雨', 'wed': '晴れ', 'thu': '晴れ', 'fri': '曇り', 'sat': '雲りのち雨', 'sun': '雷雨'}\n"
          ]
        }
      ]
    }
  ]
}