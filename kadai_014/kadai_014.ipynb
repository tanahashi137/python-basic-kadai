{
  "nbformat": 4,
  "nbformat_minor": 0,
  "metadata": {
    "colab": {
      "provenance": [],
      "gpuType": "T4"
    },
    "kernelspec": {
      "name": "python3",
      "display_name": "Python 3"
    },
    "language_info": {
      "name": "python"
    }
  },
  "cells": [
    {
      "cell_type": "code",
      "source": [
        "print(1+2)"
      ],
      "metadata": {
        "colab": {
          "base_uri": "https://localhost:8080/"
        },
        "id": "pFbPJZEeL3Cg",
        "outputId": "26bdd09e-aeeb-474a-a692-d4e6c4909ced"
      },
      "execution_count": null,
      "outputs": [
        {
          "output_type": "stream",
          "name": "stdout",
          "text": [
            "3\n"
          ]
        }
      ]
    },
    {
      "cell_type": "code",
      "source": [
        "print(\"今日の天気は\"+\"晴れ\")\n",
        "print(\"今日の天気は\" \"曇り\")"
      ],
      "metadata": {
        "colab": {
          "base_uri": "https://localhost:8080/"
        },
        "id": "iAZ6_y_vwoYC",
        "outputId": "9fce181e-8485-4e42-d397-14e953971e0b"
      },
      "execution_count": null,
      "outputs": [
        {
          "output_type": "stream",
          "name": "stdout",
          "text": [
            "今日の天気は晴れ\n",
            "今日の天気は曇り\n"
          ]
        }
      ]
    },
    {
      "cell_type": "code",
      "source": [
        "print(\"降水確率\" + str(50) + \"%\" )"
      ],
      "metadata": {
        "colab": {
          "base_uri": "https://localhost:8080/"
        },
        "id": "W3H_LqtXxywo",
        "outputId": "5ae0244e-c11d-4a7d-fdb4-1aa95ab70389"
      },
      "execution_count": null,
      "outputs": [
        {
          "output_type": "stream",
          "name": "stdout",
          "text": [
            "降水確率50%\n"
          ]
        }
      ]
    },
    {
      "cell_type": "code",
      "source": [
        "print(\"晴れ\" * 5)\n",
        "print(\"晴れ\" + \"晴れ\" + \"晴れ\" +\"晴れ\" +\"晴れ\" )"
      ],
      "metadata": {
        "colab": {
          "base_uri": "https://localhost:8080/"
        },
        "id": "TtG_aLcZxquj",
        "outputId": "a1a6b423-40a0-4713-a232-e2f3bff8b5de"
      },
      "execution_count": null,
      "outputs": [
        {
          "output_type": "stream",
          "name": "stdout",
          "text": [
            "晴れ晴れ晴れ晴れ晴れ\n",
            "晴れ晴れ晴れ晴れ晴れ\n"
          ]
        }
      ]
    },
    {
      "cell_type": "code",
      "source": [
        "print(45 + 1.8)\n",
        "print(3 - 1.2)\n",
        "print(15 * 0.6)\n",
        "print(3 / 0.3)\n",
        "print(45 % 0.8)"
      ],
      "metadata": {
        "id": "SUsVLXyHMNhx",
        "colab": {
          "base_uri": "https://localhost:8080/"
        },
        "outputId": "9f591faa-d186-442a-97ec-8fca5917ed19"
      },
      "execution_count": null,
      "outputs": [
        {
          "output_type": "stream",
          "name": "stdout",
          "text": [
            "46.8\n",
            "1.8\n",
            "9.0\n",
            "10.0\n",
            "0.1999999999999975\n"
          ]
        }
      ]
    },
    {
      "cell_type": "code",
      "source": [],
      "metadata": {
        "id": "78O5cOe8eZNb"
      },
      "execution_count": null,
      "outputs": []
    },
    {
      "cell_type": "code",
      "source": [
        "user_name=\"侍太郎\"\n",
        "print(user_name)"
      ],
      "metadata": {
        "colab": {
          "base_uri": "https://localhost:8080/"
        },
        "id": "CS_BMtDy2CDQ",
        "outputId": "973e6c39-322a-478e-8285-ed218ec7c969"
      },
      "execution_count": null,
      "outputs": [
        {
          "output_type": "stream",
          "name": "stdout",
          "text": [
            "侍太郎\n"
          ]
        }
      ]
    },
    {
      "cell_type": "code",
      "source": [
        "user_name =\"侍太郎\"\n",
        "print(user_name)\n",
        "\n",
        "user_name=\"侍花子\"\n",
        "print(user_name)"
      ],
      "metadata": {
        "colab": {
          "base_uri": "https://localhost:8080/"
        },
        "id": "SDpxBdbt68tC",
        "outputId": "727ec7f7-e7c2-4a3f-994f-6f1b954bdf43"
      },
      "execution_count": null,
      "outputs": [
        {
          "output_type": "stream",
          "name": "stdout",
          "text": [
            "侍太郎\n",
            "侍花子\n"
          ]
        }
      ]
    },
    {
      "cell_type": "code",
      "source": [
        "#整数型と浮動小数点型の足し算\n",
        "number1 = 5\n",
        "number2 = 2.5\n",
        "print(number1 + number2)\n",
        "\n",
        "#文字列型と文字列型の連結\n",
        "last_name = \"侍\"\n",
        "first_name =\"太郎\"\n",
        "print(last_name + first_name)\n"
      ],
      "metadata": {
        "colab": {
          "base_uri": "https://localhost:8080/"
        },
        "id": "Gaw0uSVb88MN",
        "outputId": "21d7e10a-a5bf-40c1-aadd-4bb28673f10e"
      },
      "execution_count": null,
      "outputs": [
        {
          "output_type": "stream",
          "name": "stdout",
          "text": [
            "7.5\n",
            "侍太郎\n"
          ]
        }
      ]
    },
    {
      "cell_type": "code",
      "source": [
        "top_side= 10\n",
        "bottom_side = 20\n",
        "height = 5\n",
        "\n",
        "print(str((top_side + bottom_side)* height / 2) + \"㎠\")"
      ],
      "metadata": {
        "id": "vvgn7yJlFahR",
        "colab": {
          "base_uri": "https://localhost:8080/"
        },
        "outputId": "50b5d4ac-f1b6-43a2-8e6d-27a837d56f15"
      },
      "execution_count": null,
      "outputs": [
        {
          "output_type": "stream",
          "name": "stdout",
          "text": [
            "75.0㎠\n"
          ]
        }
      ]
    },
    {
      "cell_type": "code",
      "source": [
        "top_side= 10\n",
        "bottom_side = 20\n",
        "height = 5\n",
        "ans = (top_side + bottom_side) * height / 2\n",
        "\n",
        "print(str(ans)+\"㎠\")"
      ],
      "metadata": {
        "colab": {
          "base_uri": "https://localhost:8080/"
        },
        "outputId": "9ccba35b-d6c9-410f-a91c-c85caf034e1c",
        "id": "dRgsvFPRZc2z"
      },
      "execution_count": null,
      "outputs": [
        {
          "output_type": "stream",
          "name": "stdout",
          "text": [
            "75.0㎠\n"
          ]
        }
      ]
    },
    {
      "cell_type": "code",
      "source": [
        "user_names = [\"侍太郎\",\"侍一郎\",\"侍二郎\",\"侍三郎\",\"侍四郎\"]\n",
        "\n",
        "print(user_names[1]) #2番目の要素だけを表示\n",
        "\n",
        "user_names[1]=\"侍花子\" #2番目の要素を更新\n",
        "print(user_names)\n",
        "\n",
        "user_names.append(\"侍五郎\") #6番目の要素を追加\n",
        "print(user_names)\n",
        "\n",
        "user_names.pop(2) #3番目の要素を削除(0始まりのため2を指定)\n",
        "print(user_names)\n"
      ],
      "metadata": {
        "id": "1wNYkdCBauec",
        "colab": {
          "base_uri": "https://localhost:8080/"
        },
        "outputId": "0b9f2b03-64d7-4d19-a514-07797de299e8"
      },
      "execution_count": null,
      "outputs": [
        {
          "output_type": "stream",
          "name": "stdout",
          "text": [
            "侍一郎\n",
            "['侍太郎', '侍花子', '侍二郎', '侍三郎', '侍四郎']\n",
            "['侍太郎', '侍花子', '侍二郎', '侍三郎', '侍四郎', '侍五郎']\n",
            "['侍太郎', '侍花子', '侍三郎', '侍四郎', '侍五郎']\n"
          ]
        }
      ]
    },
    {
      "cell_type": "markdown",
      "source": [],
      "metadata": {
        "id": "IAGoYz4fRgJ6"
      }
    },
    {
      "cell_type": "code",
      "source": [
        "country_names = (\"日本\", \"アメリカ\", \"イギリス\", \"フランス\" )\n",
        "\n",
        "# 3番目の要素を取り出す\n",
        "print(country_names[2])\n",
        "\n",
        "# すべての要素を取り出す\n",
        "print(country_names)\n"
      ],
      "metadata": {
        "colab": {
          "base_uri": "https://localhost:8080/"
        },
        "id": "4FMkNzCMs_4k",
        "outputId": "7dd94ee9-875a-43f1-b445-9f896d455477"
      },
      "execution_count": null,
      "outputs": [
        {
          "output_type": "stream",
          "name": "stdout",
          "text": [
            "イギリス\n",
            "('日本', 'アメリカ', 'イギリス', 'フランス')\n"
          ]
        }
      ]
    },
    {
      "cell_type": "code",
      "source": [
        "country_names = {\"アメリカ\",\"イギリス\",\"日本\",\"フランス\"}\n",
        "print(country_names) #セット全体を表示\n",
        "\n",
        "country_names.add(\"ドイツ\") #ドイツをセットに追加\n",
        "print(country_names)\n",
        "\n",
        "country_names.remove(\"イギリス\") #セットからイギリスを削除\n",
        "print(country_names)"
      ],
      "metadata": {
        "colab": {
          "base_uri": "https://localhost:8080/"
        },
        "id": "C23DmpcuwGXj",
        "outputId": "7d28c3be-d4f0-4922-b4b9-05682ccc2e39"
      },
      "execution_count": null,
      "outputs": [
        {
          "output_type": "stream",
          "name": "stdout",
          "text": [
            "{'フランス', '日本', 'アメリカ', 'イギリス'}\n",
            "{'フランス', 'アメリカ', 'イギリス', 'ドイツ', '日本'}\n",
            "{'フランス', 'アメリカ', 'ドイツ', '日本'}\n"
          ]
        }
      ]
    },
    {
      "cell_type": "code",
      "source": [
        "#連想配列を作成\n",
        "personal_data = {\"name\":\"侍太郎\",\"age\":36,\"gender\":\"男性\"}\n",
        "\n",
        "#キー「name」の値を表示\n",
        "print(personal_data[\"name\"])\n",
        "\n",
        "#連想配列全体を表示\n",
        "print(personal_data)\n",
        "\n",
        "#キー「age」の値を更新\n",
        "personal_data[\"age\"] = 37\n",
        "\n",
        "#新しく要素(キーと価)を追加\n",
        "personal_data[\"address\"] = \"東京都\"\n",
        "\n",
        "#連想配列全体を表示\n",
        "print(personal_data)\n"
      ],
      "metadata": {
        "id": "G-vo5UeQwWDr",
        "colab": {
          "base_uri": "https://localhost:8080/"
        },
        "outputId": "6be3dcc5-4f81-4eee-a682-f7732937f301"
      },
      "execution_count": null,
      "outputs": [
        {
          "output_type": "stream",
          "name": "stdout",
          "text": [
            "侍太郎\n",
            "{'name': '侍太郎', 'age': 36, 'gender': '男性'}\n",
            "{'name': '侍太郎', 'age': 37, 'gender': '男性', 'address': '東京都'}\n"
          ]
        }
      ]
    },
    {
      "cell_type": "code",
      "source": [
        "array = [\"月曜日は晴れです\",\"火曜日は雨です\",\"水曜日は晴れです\",\"木曜日は晴れです\",\"金曜日は曇りです\",\"土曜日は曇りのち雨です\",\"日曜日は雷雨です\"]\n",
        "print(array[2])\n",
        "\n",
        "dictionary = {\"mon\":\"晴れ\",\"tue\":\"雨\",\"wed\":\"晴れ\",\"thu\":\"晴れ\",\"fri\":\"曇り\",\"sat\":\"雲りのち雨\",\"sun\":\"雷雨\"}\n",
        "print(dictionary[\"wed\"])"
      ],
      "metadata": {
        "colab": {
          "base_uri": "https://localhost:8080/"
        },
        "id": "p8exzFOQm9St",
        "outputId": "5b324855-1656-4334-faf2-f312e1318bda"
      },
      "execution_count": null,
      "outputs": [
        {
          "output_type": "stream",
          "name": "stdout",
          "text": [
            "水曜日は晴れです\n",
            "晴れ\n"
          ]
        }
      ]
    },
    {
      "cell_type": "code",
      "source": [
        "print( 45 + 18 ) #算術演算子を使った場合の戻り値を出力する\n",
        "print( 45 > 18 ) #比較演算子を使った場合の戻り値を出力する"
      ],
      "metadata": {
        "colab": {
          "base_uri": "https://localhost:8080/"
        },
        "id": "iw4V5q1y7TF9",
        "outputId": "22490949-a6f4-4f9d-fdc7-efa1f0248f64"
      },
      "execution_count": null,
      "outputs": [
        {
          "output_type": "stream",
          "name": "stdout",
          "text": [
            "63\n",
            "True\n"
          ]
        }
      ]
    },
    {
      "cell_type": "code",
      "source": [
        "#ランダムな整数を利用するために、randamモジュールをインポート\n",
        "import random\n",
        "\n",
        "# 変数numに0~4までのランダムな整数を代入する\n",
        "num = random.randint(0,4)\n",
        "\n",
        "#変数numの値を出力\n",
        "print(num)\n",
        "\n",
        "#変数numの値が4であれば、「大当たりです」という文字列を出力する\n",
        "if num == 4:\n",
        "    print(\"大当たりです\")"
      ],
      "metadata": {
        "colab": {
          "base_uri": "https://localhost:8080/"
        },
        "id": "233M8-YFcg23",
        "outputId": "41470a91-f58e-48d5-b140-74caf3c97f74"
      },
      "execution_count": null,
      "outputs": [
        {
          "output_type": "stream",
          "name": "stdout",
          "text": [
            "0\n"
          ]
        }
      ]
    },
    {
      "cell_type": "code",
      "source": [
        "\n",
        "#ランダムな整数を利用するために、randamモジュールをインポート\n",
        "import random\n",
        "\n",
        "# 変数numに0~4までt(0,4)\n",
        "\n",
        "\n",
        "\n",
        "#変数numの値を出力\n",
        "print(num)\n",
        "\n",
        "#変数numの値が4であれば、「大当たりです」、それ以外なら「はずれです」を出力する\n",
        "if num == 4:\n",
        "    print(\"大当たりです\")\n",
        "else:\n",
        "    print(\"はずれです\")"
      ],
      "metadata": {
        "colab": {
          "base_uri": "https://localhost:8080/"
        },
        "outputId": "16047e9a-3af6-4cab-8c55-e62f3bb66cd5",
        "id": "tCYQPNqRgTq_"
      },
      "execution_count": null,
      "outputs": [
        {
          "output_type": "stream",
          "name": "stdout",
          "text": [
            "3\n",
            "はずれです\n"
          ]
        }
      ]
    },
    {
      "cell_type": "code",
      "source": [
        "#ランダムな整数を利用するために、randomモジュールをインポート\n",
        "import random\n",
        "\n",
        "# 変数numに0~4までのランダムな整数を代入する\n",
        "num = random.randint(0,4)\n",
        "\n",
        "#変数numの値を出力\n",
        "print(num)\n",
        "\n",
        "#変数numの値が4であれば、「大当たりです」、それ以外なら「はずれです」を出力する\n",
        "if num == 4:\n",
        "    print(\"大当たりです\")\n",
        "else:\n",
        "    print(\"はずれです\")"
      ],
      "metadata": {
        "colab": {
          "base_uri": "https://localhost:8080/"
        },
        "outputId": "e08695ec-a36d-4725-fed5-a9ec46f2b311",
        "id": "nSr4w4BBjsye"
      },
      "execution_count": null,
      "outputs": [
        {
          "output_type": "stream",
          "name": "stdout",
          "text": [
            "3\n",
            "はずれです\n"
          ]
        }
      ]
    },
    {
      "cell_type": "code",
      "source": [
        "#ランダムな整数を利用するために、randomモジュールをインポート\n",
        "import random\n",
        "\n",
        "# 変数numに0~4までのランダムな整数を代入する\n",
        "num = random.randint(0,4)\n",
        "\n",
        "#変数numの値を出力\n",
        "print(num)\n",
        "\n",
        "#変数numの値が4であれば、「大当たりです」、3なら「当たりです」、それ以外なら「はずれです」を出力する\n",
        "if num == 4:\n",
        "    print(\"大当たりです\")\n",
        "\n",
        "elif num == 3:\n",
        "    print(\"当たりです\")\n",
        "\n",
        "else:\n",
        "    print(\"はずれです\")"
      ],
      "metadata": {
        "id": "t7bOHqTCgPJC",
        "colab": {
          "base_uri": "https://localhost:8080/"
        },
        "outputId": "4927ce73-49f0-4fdc-ff02-dad5f95703de"
      },
      "execution_count": null,
      "outputs": [
        {
          "output_type": "stream",
          "name": "stdout",
          "text": [
            "3\n",
            "当たりです\n"
          ]
        }
      ]
    },
    {
      "cell_type": "code",
      "source": [
        "#ランダムな整数を利用するために、randonモジュールをインポート\n",
        "import random\n",
        "\n",
        "#変数numに0~4までのランダムな整数を代入する\n",
        "num = random.randint(0,4)\n",
        "\n",
        "#変数numの出力\n",
        "print(num)\n",
        "\n",
        "#全ての条件が成り立つ場合にのみ処理を行う(変数numの値が2)\n",
        "if 1 < num and num < 3:\n",
        "    print(\"変数は1より大きく、3より小さいです\")\n",
        "else:\n",
        "    print(\"and条件が成り立ちませんでした\")\n",
        "\n",
        "#１つでも条件が成り立てば処理を行う(変数numの値が1または3)\n",
        "if num == 1 or num ==3:\n",
        "    print(\"変数numは1または3です\")\n",
        "else:\n",
        "    print(\"or条件が成り立ちませんでした\")\n"
      ],
      "metadata": {
        "colab": {
          "base_uri": "https://localhost:8080/"
        },
        "id": "fPhA6_l028aQ",
        "outputId": "66c33f81-ea08-4672-ff46-c60c994be7a3"
      },
      "execution_count": null,
      "outputs": [
        {
          "output_type": "stream",
          "name": "stdout",
          "text": [
            "0\n",
            "and条件が成り立ちませんでした\n",
            "or条件が成り立ちませんでした\n"
          ]
        }
      ]
    },
    {
      "cell_type": "code",
      "source": [
        "import random\n",
        "\n",
        "var = random.randint(3,15)\n",
        "print(var)\n",
        "\n",
        "if var % 3 == 0 and var % 5 == 0:\n",
        "  print(\"FizzBuzz\")\n",
        "elif var % 3 == 0:\n",
        "  print(\"3の倍数です\")\n",
        "elif var % 5 == 0:\n",
        "  print(\"5の倍数です\")\n",
        "else:\n",
        "  print(var)\n"
      ],
      "metadata": {
        "id": "YOt6RB0CkURX",
        "colab": {
          "base_uri": "https://localhost:8080/"
        },
        "outputId": "23583efc-49fb-4506-dc78-e1b97f3b770e"
      },
      "execution_count": null,
      "outputs": [
        {
          "output_type": "stream",
          "name": "stdout",
          "text": [
            "15\n",
            "FizzBuzz\n"
          ]
        }
      ]
    },
    {
      "cell_type": "code",
      "source": [
        "for i in range(1,11):\n",
        "    print(i)\n"
      ],
      "metadata": {
        "colab": {
          "base_uri": "https://localhost:8080/"
        },
        "id": "Ks8QB66CpoiZ",
        "outputId": "81df5280-9831-4282-9880-d44047c2b448"
      },
      "execution_count": null,
      "outputs": [
        {
          "output_type": "stream",
          "name": "stdout",
          "text": [
            "1\n",
            "2\n",
            "3\n",
            "4\n",
            "5\n",
            "6\n",
            "7\n",
            "8\n",
            "9\n",
            "10\n"
          ]
        }
      ]
    },
    {
      "cell_type": "code",
      "source": [
        "#ランダムな整数を利用するため、記述が必要です。\n",
        "import random\n",
        "\n",
        "for i in range(1,11):\n",
        "  #変数numに1~20までのランダムな整数を代入する\n",
        "  num = random.randint(1,20)\n",
        "\n",
        "  print(f\"{i}回目の結果は{num}です。\")\n",
        "\n",
        "  #変数numの値が20であれば、break文で繰り返し処理を強制終了する\n",
        "  if num == 20:\n",
        "    print(\"20が出たので繰り返し処理を強制終了します。\")\n",
        "    break"
      ],
      "metadata": {
        "colab": {
          "base_uri": "https://localhost:8080/"
        },
        "id": "pxzXPjQQsM7Q",
        "outputId": "2dee98df-4117-4bf8-aee2-6a757a1d0079"
      },
      "execution_count": null,
      "outputs": [
        {
          "output_type": "stream",
          "name": "stdout",
          "text": [
            "1回目の結果は8です。\n",
            "2回目の結果は1です。\n",
            "3回目の結果は18です。\n",
            "4回目の結果は17です。\n",
            "5回目の結果は15です。\n",
            "6回目の結果は1です。\n",
            "7回目の結果は6です。\n",
            "8回目の結果は10です。\n",
            "9回目の結果は8です。\n",
            "10回目の結果は17です。\n"
          ]
        }
      ]
    },
    {
      "cell_type": "code",
      "source": [
        "for i in range(1,11):\n",
        "  if i % 2 == 1:\n",
        "    continue\n",
        "\n",
        "  print(i)"
      ],
      "metadata": {
        "colab": {
          "base_uri": "https://localhost:8080/"
        },
        "id": "Ukl9Dlv_xws_",
        "outputId": "0b1decec-9cf4-4a45-d4a6-a91528bf5ca3"
      },
      "execution_count": null,
      "outputs": [
        {
          "output_type": "stream",
          "name": "stdout",
          "text": [
            "2\n",
            "4\n",
            "6\n",
            "8\n",
            "10\n"
          ]
        }
      ]
    },
    {
      "cell_type": "code",
      "source": [
        "#ランダムな整数を利用するため記述が必要です。\n",
        "import random\n",
        "\n",
        "#変数numに0~4までのランダムな整数を代入する。\n",
        "num = random.randint(0,4)\n",
        "\n",
        "#変数numの最初の値を出力する(確認用)\n",
        "print(f\"最初の値は{num}です。\")\n",
        "\n",
        "#変数numの値が0以外である間、変数numの値を出力し続ける\n",
        "while num != 0:\n",
        "\n",
        "  #変数numに0~4までのランダムな整数を代入する\n",
        "  num = random.randint(0,4)\n",
        "\n",
        "  #次の条件式で比較される、変数numの現在の値を出力する\n",
        "  print(f\"現在の値は{num}です。\")"
      ],
      "metadata": {
        "colab": {
          "base_uri": "https://localhost:8080/"
        },
        "id": "R3xEVrXE3J06",
        "outputId": "f942731e-ba0f-4278-8fd4-1aa5ee454e20"
      },
      "execution_count": null,
      "outputs": [
        {
          "output_type": "stream",
          "name": "stdout",
          "text": [
            "最初の値は1です。\n",
            "現在の値は2です。\n",
            "現在の値は2です。\n",
            "現在の値は3です。\n",
            "現在の値は4です。\n",
            "現在の値は3です。\n",
            "現在の値は2です。\n",
            "現在の値は1です。\n",
            "現在の値は0です。\n"
          ]
        }
      ]
    },
    {
      "cell_type": "code",
      "source": [],
      "metadata": {
        "id": "n1LH-lpZki9E"
      },
      "execution_count": null,
      "outputs": []
    },
    {
      "cell_type": "code",
      "source": [
        "#ランダムな整数を利用するため記述が必要です。\n",
        "import random\n",
        "\n",
        "#変数numに0~4までのランダムな整数を代入する。\n",
        "num = random.randint(0,4)\n",
        "\n",
        "#変数numの最初の値を出力する(確認用)\n",
        "print(f\"最初の値は{num}です。\")\n",
        "\n",
        "#変数numの値が0以外である間、変数numの値を出力し続ける\n",
        "while num != 0:\n",
        "\n",
        "\n",
        "  #カウンタ変数1の値が5であれば、break文で繰り返し処理を強制終了する\n",
        "  if i == 5:\n",
        "        print(\"5回目なので繰り返し処理を強制終了します。\")\n",
        "        break\n",
        "\n",
        "  #次の条件式で比較される、変数numの値を出力する\n",
        "  print(f\"現在の値は{num} です。\")\n",
        "  #カウンタ変数の値を1増やす\n",
        "  i = i + 1"
      ],
      "metadata": {
        "colab": {
          "base_uri": "https://localhost:8080/"
        },
        "outputId": "92102215-e961-473d-f327-d8310d36a1c6",
        "id": "Y_etrer0kjpn"
      },
      "execution_count": null,
      "outputs": [
        {
          "output_type": "stream",
          "name": "stdout",
          "text": [
            "最初の値は2です。\n",
            "現在の値は1 です。\n",
            "現在の値は2 です。\n",
            "現在の値は4 です。\n",
            "現在の値は0 です。\n"
          ]
        }
      ]
    },
    {
      "cell_type": "code",
      "source": [
        "#ランダムな整数を利用するため、記述が必要です。\n",
        "import random\n",
        "\n",
        "# 変数numに0~4までのランダムな整数を代入する\n",
        "num = random.randint(0, 4)\n",
        "\n",
        "# カウンタ変数を用意する\n",
        "i = 1\n",
        "\n",
        "# 変数numの最初の値を出力する（確認用）\n",
        "print(f\"最初の値は{num}です。\")\n",
        "\n",
        "# 変数numの値が0以外である間、変数numの値を出力し続ける\n",
        "while num != 0:\n",
        "    # 変数numに0~4までのランダムな整数を代入する\n",
        "    num = random.randint(0, 4)\n",
        "\n",
        "    # カウンタ変数iの値が5であれば、break文で繰り返し処理を強制終了する\n",
        "    if i == 5:\n",
        "        print(\"5回目なので繰り返し処理を強制終了します。\")\n",
        "        break\n",
        "\n",
        "    # 次の条件式で比較される、変数numの現在の値を出力する\n",
        "    print(f\"現在の値は{num}です。\")\n",
        "    #　カウンタ変数のの値を1増やす\n",
        "    i = i + 1\n"
      ],
      "metadata": {
        "colab": {
          "base_uri": "https://localhost:8080/"
        },
        "id": "GbvLImyMl02r",
        "outputId": "ba923f14-8b71-4770-946a-b96d3dfe1130"
      },
      "execution_count": null,
      "outputs": [
        {
          "output_type": "stream",
          "name": "stdout",
          "text": [
            "最初の値は0です。\n"
          ]
        }
      ]
    },
    {
      "cell_type": "code",
      "source": [
        "  #ランダムな整数を利用するため、記述が必要です。\n",
        "  import random\n",
        "\n",
        "  #合計用の変数を用意する\n",
        "  sum = 0\n",
        "\n",
        "  #変数sumの値が20以上になるまで繰り返し処理を行う\n",
        "  while sum < 20:\n",
        "    #変数numに1~10までのランダムな整数を代入する\n",
        "      num = random.randint(1,10)\n",
        "\n",
        "      print(f\"{num}が出ました。\")\n",
        "\n",
        "      #変数numの値が偶数(2で割った余りが0)であれば、加算せずにcontneu文で次のループに進む\n",
        "      if num % 2 == 0:\n",
        "        print(\"偶数なので加算しません。\")\n",
        "        continue\n",
        "\n",
        "      #変数numに変数numの値を加算する\n",
        "      sum = sum + num\n",
        "      print(f\"現在の合計は{sum}です。\")"
      ],
      "metadata": {
        "id": "w_tkL3wXs_DO",
        "colab": {
          "base_uri": "https://localhost:8080/"
        },
        "outputId": "3d1a58d9-44c8-4c2c-a53f-cbe42727c9bb"
      },
      "execution_count": null,
      "outputs": [
        {
          "output_type": "stream",
          "name": "stdout",
          "text": [
            "7が出ました。\n",
            "現在の合計は7です。\n",
            "2が出ました。\n",
            "偶数なので加算しません。\n",
            "4が出ました。\n",
            "偶数なので加算しません。\n",
            "7が出ました。\n",
            "現在の合計は14です。\n",
            "9が出ました。\n",
            "現在の合計は23です。\n"
          ]
        }
      ]
    },
    {
      "cell_type": "code",
      "source": [
        "user_names = [\"侍太郎\"  ,\"侍一郎\",\"侍二郎\",\"侍三郎\",\"侍四郎\"]\n",
        "\n",
        "#配列user_nameの要素を1つずつ順番に出力する\n",
        "for user_name in user_names:\n",
        "    print(user_name)"
      ],
      "metadata": {
        "colab": {
          "base_uri": "https://localhost:8080/"
        },
        "id": "SfZZ1ZiWK7ps",
        "outputId": "1116f04b-a693-4be8-f478-f2d53a0f1e7d"
      },
      "execution_count": null,
      "outputs": [
        {
          "output_type": "stream",
          "name": "stdout",
          "text": [
            "侍太郎\n",
            "侍一郎\n",
            "侍二郎\n",
            "侍三郎\n",
            "侍四郎\n"
          ]
        }
      ]
    },
    {
      "cell_type": "code",
      "source": [
        "personal_data = {\"name\":\"侍太郎\",\"age\":36,\"gender\":\"男性\"}\n",
        "\n",
        "#連想配列personal_dataのキーと価を順番に出力する\n",
        "for key, value in personal_data.items():\n",
        "    print(f\"{key}は{value}です。\")\n",
        "\n",
        "#連想配列personal_dataの値を1つずつ順番に出力する\n",
        "for value in personal_data.values():\n",
        "    print(value)\n"
      ],
      "metadata": {
        "colab": {
          "base_uri": "https://localhost:8080/"
        },
        "id": "OET6ulLqPyna",
        "outputId": "db826c27-0840-441e-8f57-78ed4adf7d5f"
      },
      "execution_count": null,
      "outputs": [
        {
          "output_type": "stream",
          "name": "stdout",
          "text": [
            "nameは侍太郎です。\n",
            "ageは36です。\n",
            "genderは男性です。\n",
            "侍太郎\n",
            "36\n",
            "男性\n"
          ]
        }
      ]
    },
    {
      "cell_type": "code",
      "source": [
        "user_names = {\"侍太郎\",\"侍一郎\",\"侍二郎\",\"侍三郎\",\"侍四郎\"}\n",
        "\n",
        "#検索したいユーザー名を代入する変数\n",
        "target = \"侍二郎\"\n",
        "\n",
        "for user_name in user_names:\n",
        "  print(user_name)\n",
        "\n",
        "      #変数user_nameと変数targetの値が一致すれば、break文で繰り返し処理を強制終了する\n",
        "      if (user_name == target):\n",
        "        print{f}"
      ],
      "metadata": {
        "id": "gbAtfIEqTnHV"
      },
      "execution_count": null,
      "outputs": []
    },
    {
      "cell_type": "code",
      "source": [
        "user_names = [\"侍太郎\",\"侍一郎\",\"侍二郎\",\"侍三郎\",\"侍四郎\"]\n",
        "\n",
        "#配列user_nameのインデックスと値を1つずつ順番に出力する\n",
        "for index,value in enumerate(user_names):\n",
        "    print(f\"{index} : {value}です。\")"
      ],
      "metadata": {
        "colab": {
          "base_uri": "https://localhost:8080/"
        },
        "id": "6luE2fjXjslc",
        "outputId": "ee503998-435c-4acd-ba38-2d7ef7271393"
      },
      "execution_count": null,
      "outputs": [
        {
          "output_type": "stream",
          "name": "stdout",
          "text": [
            "0 : 侍太郎です。\n",
            "1 : 侍一郎です。\n",
            "2 : 侍二郎です。\n",
            "3 : 侍三郎です。\n",
            "4 : 侍四郎です。\n"
          ]
        }
      ]
    },
    {
      "cell_type": "code",
      "source": [
        "user_names = [\"侍太郎\",\"侍一郎\",\"侍二郎\",\"侍三郎\",\"侍四郎\"]\n",
        "\n",
        "#検索したいユーザー名を代入する変数\n",
        "target = \"侍二郎\"\n",
        "\n",
        "for user_name in user_names:\n",
        "    print(user_name)\n",
        "\n",
        "    #変数user_nameと変数tagetの値が一致すれば、break文で繰り返し処理を強制終了する\n",
        "    if(user_name == target):\n",
        "        print(f\"{target}が見つかったので。繰り返し処理を強制終了します。\")\n",
        "        break"
      ],
      "metadata": {
        "colab": {
          "base_uri": "https://localhost:8080/"
        },
        "id": "FILU4ENkmPz2",
        "outputId": "00337dd7-7420-4452-dfd7-ef75e29a7d57"
      },
      "execution_count": null,
      "outputs": [
        {
          "output_type": "stream",
          "name": "stdout",
          "text": [
            "侍太郎\n",
            "侍一郎\n",
            "侍二郎\n",
            "侍二郎が見つかったので。繰り返し処理を強制終了します。\n"
          ]
        }
      ]
    },
    {
      "cell_type": "code",
      "source": [
        "score = {\n",
        "    \"国語\": 80 ,\n",
        "    \"数学\": 55 ,\n",
        "    \"理科\": 70 ,\n",
        "    \"社会\": 85 ,\n",
        "    \"英語\": 60 ,\n",
        "}\n",
        "\n",
        "print(\"合格した科目は以下のとおりです。\")\n",
        "\n",
        "for key, value in score.items():\n",
        "        #変数valueの値(点数)が70より小さければ、キー(科目名)と値(点数)を出力せずにcontinue文で次のループに進む\n",
        "      if (value < 70):\n",
        "        continue\n",
        "      print(f\"{key} : {value}点\")"
      ],
      "metadata": {
        "colab": {
          "base_uri": "https://localhost:8080/"
        },
        "id": "-O0BBX3XpFZT",
        "outputId": "eb634ba5-ee02-4b9e-e8a3-fdd951e3c7f2"
      },
      "execution_count": null,
      "outputs": [
        {
          "output_type": "stream",
          "name": "stdout",
          "text": [
            "合格した科目は以下のとおりです。\n",
            "国語 : 80点\n",
            "理科 : 70点\n",
            "社会 : 85点\n"
          ]
        }
      ]
    },
    {
      "cell_type": "code",
      "source": [
        "array = [\"水\",\"金\",\"地\",\"火\",\"木\",\"土\",\"天\",\"海\",\"冥\"]\n",
        "\n",
        "#for文\n",
        "for array in arrays:\n",
        "    print(array)\n",
        "\n",
        "#while文\n",
        "i = 0\n",
        "while i < len(arrays):\n",
        "    print(arrays[i])\n",
        "    i = i + 1\n",
        "\n"
      ],
      "metadata": {
        "colab": {
          "base_uri": "https://localhost:8080/"
        },
        "id": "tYUHEcTww4s1",
        "outputId": "6944bf66-5a40-46b1-d3ae-55cb1f0bc45a"
      },
      "execution_count": null,
      "outputs": [
        {
          "output_type": "stream",
          "name": "stdout",
          "text": [
            "水\n",
            "金\n",
            "地\n",
            "火\n",
            "木\n",
            "土\n",
            "天\n",
            "海\n",
            "冥\n",
            "水\n",
            "金\n",
            "地\n",
            "火\n",
            "木\n",
            "土\n",
            "天\n",
            "海\n",
            "冥\n"
          ]
        }
      ]
    },
    {
      "cell_type": "code",
      "source": [
        "#朝のあいさつを出力する関数を作成する\n",
        "def say_good_morning():\n",
        "    print(\"おはようございます！\")\n",
        "    print(\"昨日はよく眠れましたか？\")\n",
        "    print(\"今日も一日頑張りましょう！\")\n",
        "\n",
        "#夜のあいさつを出力する関数を作成する\n",
        "def say_good_evening():\n",
        "    print(\"こんばんは！\")\n",
        "    print(\"今日も一日お疲れさまでした。\")\n",
        "\n",
        "#朝のあいさつを出力する関数を呼び出す\n",
        "say_good_morning()\n",
        "\n",
        "#夜のあいさつを出力する関数を呼び出す\n",
        "say_good_evening()\n"
      ],
      "metadata": {
        "colab": {
          "base_uri": "https://localhost:8080/"
        },
        "id": "Lbzcw55cCrXQ",
        "outputId": "8e45af45-e333-4e64-d214-f92ec3462e5b"
      },
      "execution_count": null,
      "outputs": [
        {
          "output_type": "stream",
          "name": "stdout",
          "text": [
            "おはようございます！\n",
            "昨日はよく眠れましたか？\n",
            "今日も一日頑張りましょう！\n",
            "こんばんは！\n",
            "今日も一日お疲れさまでした。\n"
          ]
        }
      ]
    },
    {
      "cell_type": "code",
      "source": [
        "#与えられた引数$priceに送料を加算し、その値を出力する関数を定義する\n",
        "def calculate_total(price):\n",
        "\n",
        "  #与えられた引数priceに送料を加算し、変数totalに代入する\n",
        "  total = price + 500\n",
        "\n",
        "  #変数totalの値を出力する\n",
        "  print(f\"{total}円\")\n",
        "\n",
        "#関数を呼び出し、引数として購入金額を渡す\n",
        "calculate_total(900)\n"
      ],
      "metadata": {
        "colab": {
          "base_uri": "https://localhost:8080/"
        },
        "id": "j2ETwIirLyk1",
        "outputId": "ab23033c-c040-4054-c383-b576738274a9"
      },
      "execution_count": null,
      "outputs": [
        {
          "output_type": "stream",
          "name": "stdout",
          "text": [
            "1400円\n"
          ]
        }
      ]
    },
    {
      "cell_type": "code",
      "source": [
        "def add_two_arguments(price,shippng_fee):\n",
        "  #与えられた引数priceと引数shipping_feeを加算し、変数totalに代入する\n",
        "  total = price + shippng_fee\n",
        "\n",
        "  #変数$totalの値を出力する\n",
        "  print(f\"{total}円\")\n",
        "#関数を呼び出し、引数として購入金額と送料を渡す\n",
        "add_two_arguments(600,40)\n"
      ],
      "metadata": {
        "colab": {
          "base_uri": "https://localhost:8080/"
        },
        "id": "Xet2R_3roPw9",
        "outputId": "ffe50607-0450-4825-9ea2-1dbc99d73fa5"
      },
      "execution_count": null,
      "outputs": [
        {
          "output_type": "stream",
          "name": "stdout",
          "text": [
            "640円\n"
          ]
        }
      ]
    },
    {
      "cell_type": "code",
      "source": [
        "#購入済みかどうか判定する変数\n",
        "purchased = True\n",
        "\n",
        "#戻り値を返す関数を定義する\n",
        "def is_purchased():\n",
        "  if(purchased):\n",
        "      return True\n",
        "  else:\n",
        "      return False\n",
        "\n",
        "#戻り値を返す関数を条件式に使う(Trueであれば処理が実行される)\n",
        "if(is_purchased()):\n",
        "    print(\"商品は購入済みです。\")\n"
      ],
      "metadata": {
        "colab": {
          "base_uri": "https://localhost:8080/"
        },
        "id": "rnsh5gAutrBD",
        "outputId": "2a9814dd-cd42-460b-f941-36b2f5b250ca"
      },
      "execution_count": null,
      "outputs": [
        {
          "output_type": "stream",
          "name": "stdout",
          "text": [
            "商品は購入済みです。\n"
          ]
        }
      ]
    },
    {
      "cell_type": "code",
      "source": [
        "def calculate_total_price(price, tax_rate):\n",
        "\n",
        "    total_price = price * (1 + tax_rate)\n",
        "    return total_price\n",
        "\n",
        "price = 300\n",
        "tax_rate = 0.10\n",
        "total = calculate_total_price(price, tax_rate)\n",
        "print(f\"消費税込みの金額は: {total}円です\")\n"
      ],
      "metadata": {
        "colab": {
          "base_uri": "https://localhost:8080/"
        },
        "id": "8QUQ52GV7t2_",
        "outputId": "d46ef582-2c5c-4538-b113-20d0027c917c"
      },
      "execution_count": null,
      "outputs": [
        {
          "output_type": "stream",
          "name": "stdout",
          "text": [
            "消費税込みの金額は: 330.0円です\n"
          ]
        }
      ]
    },
    {
      "cell_type": "code",
      "source": [
        "def show_user_name():\n",
        "  #ローカル変数を定義する\n",
        "    user_name = \"侍太郎\"\n",
        "\n",
        "  #ローカルスコープの範囲内でローカル変数を使う\n",
        "    print(user_name)\n",
        "\n",
        "show_user_name()\n"
      ],
      "metadata": {
        "colab": {
          "base_uri": "https://localhost:8080/"
        },
        "id": "ETAnRg3gEAoR",
        "outputId": "06959f3c-b611-408b-8d7a-604a1a150bb8"
      },
      "execution_count": null,
      "outputs": [
        {
          "output_type": "stream",
          "name": "stdout",
          "text": [
            "侍太郎\n"
          ]
        }
      ]
    },
    {
      "cell_type": "code",
      "source": [
        "#グローバル変数を定義する\n",
        "user_name = \"侍花子\"\n",
        "\n",
        "def show_user_name():\n",
        "  #ローカル変数を定義する\n",
        "  user_name = \"侍太郎\"\n",
        "\n",
        "  #ローカルスコープの範囲内でローカル変数を使う\n",
        "  print(user_name)\n",
        "\n",
        "show_user_name()\n",
        "\n",
        "#グローバルスコープの範囲内でグローバル変数を使う\n",
        "print(user_name)\n"
      ],
      "metadata": {
        "colab": {
          "base_uri": "https://localhost:8080/"
        },
        "id": "-cfUz9ZVJe2e",
        "outputId": "b530fc59-c18c-4de7-cd74-c191fe5c68a4"
      },
      "execution_count": null,
      "outputs": [
        {
          "output_type": "stream",
          "name": "stdout",
          "text": [
            "侍太郎\n",
            "侍花子\n"
          ]
        }
      ]
    },
    {
      "cell_type": "code",
      "source": [
        "price1 = 100\n",
        "price2 = 200\n",
        "tax = 1.1\n",
        "\n",
        "def total():\n",
        "    return price1 + price2\n",
        "\n",
        "print (total() * tax)\n"
      ],
      "metadata": {
        "colab": {
          "base_uri": "https://localhost:8080/"
        },
        "id": "rMVINHXKjwgW",
        "outputId": "534fa16d-ae34-48e2-f953-59e9d1d40084"
      },
      "execution_count": 9,
      "outputs": [
        {
          "output_type": "stream",
          "name": "stdout",
          "text": [
            "330.0\n"
          ]
        }
      ]
    }
  ]
}